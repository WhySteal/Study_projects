{
 "cells": [
  {
   "cell_type": "code",
   "execution_count": 197,
   "metadata": {},
   "outputs": [],
   "source": [
    "#ЧБ изображения 6х6, где проверяется какой знак написан \"+ - = ! х /\" 6 знаков\n",
    "\n",
    "#36 на входе (пиксели 00 - ij (развернутые по строкам)), 6 на выходе (получившийся знак)"
   ]
  },
  {
   "cell_type": "code",
   "execution_count": 198,
   "metadata": {},
   "outputs": [],
   "source": [
    "import numpy as np\n",
    "from PIL import Image, ImageDraw, ImageFont\n",
    "import matplotlib.pyplot as plt\n",
    "from matplotlib.backends.backend_agg import FigureCanvasAgg as FigureCanvas\n",
    "from ipywidgets import Button, GridspecLayout, VBox, Layout\n",
    "import random"
   ]
  },
  {
   "cell_type": "code",
   "execution_count": 199,
   "metadata": {},
   "outputs": [],
   "source": [
    "#Число файлов с каждым знаком\n",
    "VIBORKA = 15\n",
    "#Скорость обучения\n",
    "SPEED = 0.2\n",
    "#Допустимая ошибка\n",
    "#EPSILON = 0.1\n",
    "#Вектор порогов\n",
    "VECTOR_POROGOV = []\n",
    "#Ограничение эопх\n",
    "EPOCH = 200\n",
    "test_img_path = 'Input.png'\n",
    "for i in range(6):\n",
    "    VECTOR_POROGOV.append(random.random()-0.5)\n",
    "# Список знаков\n",
    "symbols = ['+', '-', '=', '!', 'x', 'l']\n",
    "symbols_index = [0, 1, 2, 3, 4, 5]\n",
    "# '+' - 0, '-' - 1, '=' - 2, '!' - 3, 'x' - 4, 'l' - 5\n",
    "Par = {0:'+', 1:'-', 2:'=', 3:'!', 4:'x', 5:'l'}\n",
    "# Размер изображения\n",
    "img_size = (6, 6)\n"
   ]
  },
  {
   "cell_type": "code",
   "execution_count": 200,
   "metadata": {},
   "outputs": [],
   "source": [
    "#Получение пикселей из изображения\n",
    "def pix(path):\n",
    "    \"path - ссылка на изображение\"\n",
    "    img = Image.open(path)\n",
    "    img = img.convert(\"L\") #Конверт в один канал\n",
    "    pixels = img.load()\n",
    "    return pixels"
   ]
  },
  {
   "cell_type": "code",
   "execution_count": 201,
   "metadata": {},
   "outputs": [],
   "source": [
    "# Преобразование изображения в вектор\n",
    "def img_to_vector(pixels):\n",
    "    \"pixels - pix(path)\"\n",
    "    vector = []\n",
    "    for i in range(6):\n",
    "        for j in range(6):\n",
    "            if pixels[i,j] > (255/2):\n",
    "               vector.append(0)\n",
    "            else:\n",
    "               vector.append(1)\n",
    "    vector.append(1)\n",
    "    return vector"
   ]
  },
  {
   "cell_type": "code",
   "execution_count": 202,
   "metadata": {},
   "outputs": [],
   "source": [
    "#Генерация данных от обучающей выборки\n",
    "def gen_vibor():\n",
    "    X = []\n",
    "    Y = []\n",
    "    path = \"\"\n",
    "    for i in range(1,VIBORKA+1):\n",
    "        for j in range(6):\n",
    "            y = []\n",
    "            path = f\"Study/{Par[j]}_{i}.png\"\n",
    "            X.append(img_to_vector(pix(path)))\n",
    "            for l in range(j):\n",
    "                y.append(0)\n",
    "            y.append(1)\n",
    "            for l in range(5-j):\n",
    "                y.append(0)\n",
    "            Y.append(y)\n",
    "    return X, Y"
   ]
  },
  {
   "cell_type": "code",
   "execution_count": 203,
   "metadata": {},
   "outputs": [],
   "source": [
    "#Инициализация весов\n",
    "def inec_W():\n",
    "    \"36*6 в W1 и 6 в W2 (0-1)\"\n",
    "    W1 = []\n",
    "    for i in range(36):\n",
    "        if i!= 0:\n",
    "            W1.append(w1)\n",
    "        w1 = []\n",
    "        for j in range(6):\n",
    "            w1.append(random.random()-0.5)\n",
    "    W1.append(w1)\n",
    "    W1.append(VECTOR_POROGOV)\n",
    "    W1 = np.array(W1)\n",
    "    return W1"
   ]
  },
  {
   "cell_type": "code",
   "execution_count": 204,
   "metadata": {},
   "outputs": [],
   "source": [
    "def act(y):\n",
    "    if y > 0.7:\n",
    "        return int(1)\n",
    "    else:\n",
    "        return int(0)"
   ]
  },
  {
   "cell_type": "code",
   "execution_count": 205,
   "metadata": {},
   "outputs": [],
   "source": [
    "#Вектор ошибок\n",
    "def error(real, predicted):\n",
    "    \"Список реальных значений, список предсказанных\"\n",
    "    Error_vec = []\n",
    "    for i in range(min(len(real),len(predicted))):\n",
    "        Error_vec.append(real[i] - predicted[i])\n",
    "    return Error_vec"
   ]
  },
  {
   "cell_type": "code",
   "execution_count": 206,
   "metadata": {},
   "outputs": [],
   "source": [
    "#Транспонирование\n",
    "def trans(masiv):  \n",
    "     result = []\n",
    "     for i in range(len(masiv)):\n",
    "               result.append([masiv[i]])\n",
    "     return result"
   ]
  },
  {
   "cell_type": "code",
   "execution_count": 207,
   "metadata": {},
   "outputs": [],
   "source": [
    "#Задание массива\n",
    "def mas(masiv):\n",
    "    result=[]\n",
    "    for i in range(len(masiv)):\n",
    "        result.append(masiv[i])\n",
    "    return [result]"
   ]
  },
  {
   "cell_type": "code",
   "execution_count": 208,
   "metadata": {},
   "outputs": [],
   "source": [
    "#Корректировка весов\n",
    "def correct(real, errors, W):\n",
    "    D = SPEED * np.dot(trans(real),mas(errors))\n",
    "    W = np.add(W, D)\n",
    "    return W"
   ]
  },
  {
   "cell_type": "code",
   "execution_count": 209,
   "metadata": {},
   "outputs": [],
   "source": [
    "def predict(path, W):\n",
    "    X = img_to_vector(pix(path))\n",
    "    Y = np.dot(X, W)\n",
    "    output = None\n",
    "    max = -100\n",
    "    for i in range(len(Y)):\n",
    "        if Y[i]>max:\n",
    "            output = i\n",
    "            max = Y[i]\n",
    "        Y[i] = act(Y[i])\n",
    "    return Par[output]"
   ]
  },
  {
   "cell_type": "code",
   "execution_count": 210,
   "metadata": {},
   "outputs": [],
   "source": [
    "#Выполнение пока ошибка уменьшается и больше допустимой\n",
    "epoch = 0\n",
    "W = inec_W()\n",
    "X, Y = gen_vibor()\n",
    "X = np.array(X)\n",
    "Y = np.array(Y) \n",
    "while epoch < EPOCH:\n",
    "    epoch+=1       \n",
    "    Ypredict = np.dot(X, W)\n",
    "    for i in range(len(Ypredict)):\n",
    "        for j in range(len(Ypredict[0])):\n",
    "            Ypredict[i][j] = act(Ypredict[i][j])\n",
    "    for i in range(VIBORKA*6):\n",
    "        Ei = error(Y[i], Ypredict[i])\n",
    "        W = correct(X[i], Ei, W)\n",
    "        #print(W)"
   ]
  },
  {
   "cell_type": "code",
   "execution_count": 211,
   "metadata": {},
   "outputs": [
    {
     "data": {
      "application/vnd.jupyter.widget-view+json": {
       "model_id": "0794ffadcee341e6b8c4658df0e8e99b",
       "version_major": 2,
       "version_minor": 0
      },
      "text/plain": [
       "VBox(children=(GridspecLayout(children=(Button(layout=Layout(border_bottom='1px solid black', border_left='1px…"
      ]
     },
     "metadata": {},
     "output_type": "display_data"
    },
    {
     "name": "stdout",
     "output_type": "stream",
     "text": [
      "Изображение сохранено как Input.png\n",
      "Изображение сохранено как Input.png\n",
      "Изображение сохранено как Input.png\n"
     ]
    }
   ],
   "source": [
    "# Размер изображения\n",
    "img_size = (6, 6)\n",
    "\n",
    "# Инициализация пустого изображения с белыми пикселями\n",
    "canvas = np.ones(img_size, dtype=np.uint8)\n",
    "\n",
    "# Создаем начальную сетку кнопок для рисования\n",
    "grid = GridspecLayout(img_size[0], img_size[1], width='300px', height='300px')\n",
    "\n",
    "def update_pixel(x, y, button):\n",
    "    canvas[y, x] = 1 - canvas[y, x]  # Инвертируем пиксель\n",
    "    button.style.button_color = 'white' if canvas[y, x] == 1 else 'black'  # Обновляем цвет кнопки\n",
    "\n",
    "# Заполняем сетку кнопками и добавляем их на экран\n",
    "for y in range(img_size[0]):\n",
    "    for x in range(img_size[1]):\n",
    "        button = Button(description='', layout=Layout(width='30px', height='30px', border='1px solid black'))\n",
    "        button.style.button_color = 'black' if canvas[y, x] == 0 else 'white'  # Настройка начального цвета кнопок\n",
    "        button.on_click(lambda b, x=x, y=y: update_pixel(x, y, b))\n",
    "        grid[y, x] = button\n",
    "\n",
    "# Функция для отображения текущего состояния canvas и сохранения изображения\n",
    "def display_canvas_and_save():\n",
    "    fig, ax = plt.subplots(figsize=(img_size[1], img_size[0]))  # Создаем фигуру с соответствующими размерами\n",
    "    ax.imshow(canvas, cmap='gray', interpolation='nearest')  # Отображаем текущее состояние canvas\n",
    "    ax.axis('off')  # Отключаем оси\n",
    "    fig.tight_layout()\n",
    "    \n",
    "    # Сохраняем изображение в PNG формате размером 6x6 пикселей\n",
    "    fig.savefig('Input.png', dpi=1, transparent=True)  # dpi равен ширине изображения\n",
    "    plt.close(fig)  # Закрываем фигуру после сохранения\n",
    "    global test_img_path\n",
    "    test_img_path = 'Input.png'\n",
    "    # Показываем сообщение о сохранении\n",
    "    print('Изображение сохранено как Input.png')\n",
    "\n",
    "# Кнопка для подтверждения изменений и сохранения изображения\n",
    "confirm_button = Button(description='Подтвердить и сохранить', button_style='success')\n",
    "confirm_button.on_click(lambda b: display_canvas_and_save())\n",
    "\n",
    "# Отображаем сетку кнопок и кнопку подтверждения в вертикальном виджете\n",
    "display(VBox([grid, confirm_button]))"
   ]
  },
  {
   "cell_type": "code",
   "execution_count": 216,
   "metadata": {},
   "outputs": [
    {
     "name": "stdout",
     "output_type": "stream",
     "text": [
      "Нарисованный знак вероятно:  =\n"
     ]
    }
   ],
   "source": [
    "Test = predict(test_img_path, W)\n",
    "print(\"Нарисованный знак вероятно: \", Test)"
   ]
  }
 ],
 "metadata": {
  "kernelspec": {
   "display_name": "Python 3",
   "language": "python",
   "name": "python3"
  },
  "language_info": {
   "codemirror_mode": {
    "name": "ipython",
    "version": 3
   },
   "file_extension": ".py",
   "mimetype": "text/x-python",
   "name": "python",
   "nbconvert_exporter": "python",
   "pygments_lexer": "ipython3",
   "version": "3.11.9"
  }
 },
 "nbformat": 4,
 "nbformat_minor": 2
}
